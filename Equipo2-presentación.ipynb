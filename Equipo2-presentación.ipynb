{
 "cells": [
  {
   "cell_type": "code",
   "execution_count": null,
   "metadata": {},
   "outputs": [],
   "source": [
    "import numpy as np\n",
    "np.random.seed(4)\n",
    "import matplotlib.pyplot as plt\n",
    "import pandas as pd\n",
    "import pandas_datareader.data as web\n",
    "import datetime"
   ]
  },
  {
   "cell_type": "markdown",
   "metadata": {},
   "source": [
    "#pip install pandas-datareader"
   ]
  },
  {
   "cell_type": "code",
   "execution_count": 2,
   "metadata": {
    "id": "8bMQ1IYJBgGe"
   },
   "outputs": [],
   "source": [
    "from sklearn.preprocessing import MinMaxScaler\n",
    "from keras.layers import Dense, LSTM\n",
    "from keras.models import Sequential"
   ]
  },
  {
   "cell_type": "markdown",
   "metadata": {},
   "source": [
    "#pip install tensorflow "
   ]
  },
  {
   "cell_type": "code",
   "execution_count": 3,
   "metadata": {
    "id": "iTWe1pMPBgGi"
   },
   "outputs": [],
   "source": [
    "#\n",
    "# Funciones auxiliares\n",
    "#\n",
    "def graficar_predicciones(real, prediccion):\n",
    "    plt.plot(real[0:len(prediccion)],color='red', label='Valor real de la acción')\n",
    "    plt.plot(prediccion, color='blue', label='Predicción de la acción')\n",
    "    plt.ylim(1.1 * np.min(prediccion)/2, 1.1 * np.max(prediccion))\n",
    "    plt.xlabel('Tiempo')\n",
    "    plt.ylabel('Valor de la acción')\n",
    "    plt.legend()\n",
    "    plt.show()"
   ]
  },
  {
   "cell_type": "code",
   "execution_count": 4,
   "metadata": {
    "colab": {
     "base_uri": "https://localhost:8080/",
     "height": 238
    },
    "id": "glBn7jm-BgGo",
    "outputId": "6d4cd7f6-122f-431f-81ab-03e0bc8f03ef"
   },
   "outputs": [
    {
     "data": {
      "text/html": [
       "<div>\n",
       "<style scoped>\n",
       "    .dataframe tbody tr th:only-of-type {\n",
       "        vertical-align: middle;\n",
       "    }\n",
       "\n",
       "    .dataframe tbody tr th {\n",
       "        vertical-align: top;\n",
       "    }\n",
       "\n",
       "    .dataframe thead th {\n",
       "        text-align: right;\n",
       "    }\n",
       "</style>\n",
       "<table border=\"1\" class=\"dataframe\">\n",
       "  <thead>\n",
       "    <tr style=\"text-align: right;\">\n",
       "      <th></th>\n",
       "      <th>High</th>\n",
       "      <th>Low</th>\n",
       "      <th>Open</th>\n",
       "      <th>Close</th>\n",
       "      <th>Volume</th>\n",
       "      <th>Adj Close</th>\n",
       "    </tr>\n",
       "    <tr>\n",
       "      <th>Date</th>\n",
       "      <th></th>\n",
       "      <th></th>\n",
       "      <th></th>\n",
       "      <th></th>\n",
       "      <th></th>\n",
       "      <th></th>\n",
       "    </tr>\n",
       "  </thead>\n",
       "  <tbody>\n",
       "    <tr>\n",
       "      <th>2010-10-01</th>\n",
       "      <td>109.279999</td>\n",
       "      <td>103.500000</td>\n",
       "      <td>105.080002</td>\n",
       "      <td>108.300003</td>\n",
       "      <td>951600.0</td>\n",
       "      <td>88.645699</td>\n",
       "    </tr>\n",
       "    <tr>\n",
       "      <th>2010-11-01</th>\n",
       "      <td>112.300003</td>\n",
       "      <td>107.480003</td>\n",
       "      <td>108.919998</td>\n",
       "      <td>108.180000</td>\n",
       "      <td>1070400.0</td>\n",
       "      <td>88.547455</td>\n",
       "    </tr>\n",
       "    <tr>\n",
       "      <th>2010-12-01</th>\n",
       "      <td>115.599998</td>\n",
       "      <td>109.879997</td>\n",
       "      <td>109.919998</td>\n",
       "      <td>115.139999</td>\n",
       "      <td>1670300.0</td>\n",
       "      <td>94.244339</td>\n",
       "    </tr>\n",
       "    <tr>\n",
       "      <th>2011-01-01</th>\n",
       "      <td>119.220001</td>\n",
       "      <td>115.480003</td>\n",
       "      <td>115.940002</td>\n",
       "      <td>117.699997</td>\n",
       "      <td>4402150.0</td>\n",
       "      <td>96.780792</td>\n",
       "    </tr>\n",
       "    <tr>\n",
       "      <th>2011-02-01</th>\n",
       "      <td>123.220001</td>\n",
       "      <td>118.379997</td>\n",
       "      <td>118.480003</td>\n",
       "      <td>121.779999</td>\n",
       "      <td>2761400.0</td>\n",
       "      <td>100.135674</td>\n",
       "    </tr>\n",
       "  </tbody>\n",
       "</table>\n",
       "</div>"
      ],
      "text/plain": [
       "                  High         Low        Open       Close     Volume  \\\n",
       "Date                                                                    \n",
       "2010-10-01  109.279999  103.500000  105.080002  108.300003   951600.0   \n",
       "2010-11-01  112.300003  107.480003  108.919998  108.180000  1070400.0   \n",
       "2010-12-01  115.599998  109.879997  109.919998  115.139999  1670300.0   \n",
       "2011-01-01  119.220001  115.480003  115.940002  117.699997  4402150.0   \n",
       "2011-02-01  123.220001  118.379997  118.480003  121.779999  2761400.0   \n",
       "\n",
       "             Adj Close  \n",
       "Date                    \n",
       "2010-10-01   88.645699  \n",
       "2010-11-01   88.547455  \n",
       "2010-12-01   94.244339  \n",
       "2011-01-01   96.780792  \n",
       "2011-02-01  100.135674  "
      ]
     },
     "execution_count": 4,
     "metadata": {},
     "output_type": "execute_result"
    }
   ],
   "source": [
    "#\n",
    "# Lectura de los datos\n",
    "#\n",
    "#dataset = pd.read_csv('Futuros del Índice S&P 500 - Este es el bueno.csv', index_col='Fecha', parse_dates=['Fecha'])\n",
    "#dataset.head()\n",
    "start = datetime.datetime(2015,1,1)\n",
    "end = datetime.datetime(2020,12,31)\n",
    "dataset = web.get_data_yahoo('VOO','01/01/2010',interval='m')\n",
    "dataset.head()"
   ]
  },
  {
   "cell_type": "code",
   "execution_count": 5,
   "metadata": {
    "colab": {
     "base_uri": "https://localhost:8080/",
     "height": 279
    },
    "id": "dSadYSVgBgG6",
    "outputId": "7c882209-2836-4158-fe7e-69e2d3e606e7"
   },
   "outputs": [
    {
     "data": {
      "image/png": "[encoded data removed]",
      "text/plain": [
       "<Figure size 432x288 with 1 Axes>"
      ]
     },
     "metadata": {
      "needs_background": "light"
     },
     "output_type": "display_data"
    }
   ],
   "source": [
    "#\n",
    "# Sets de entrenamiento y validación \n",
    "# La LSTM se entrenará con datos de 2016 hacia atrás. La validación se hará con datos de 2017 en adelante.\n",
    "# En ambos casos sólo se usará el valor más alto de la acción para cada día\n",
    "#\n",
    "\n",
    "set_entrenamiento = dataset['2010':'2019'].iloc[:,3:4]\n",
    "set_validacion = dataset['2020':].iloc[:,3:4]\n",
    "set_entrenamiento['Close'].plot(legend=True)\n",
    "set_validacion['Close'].plot(legend=True)\n",
    "plt.legend(['Entrenamiento (Ene 2010-Dic 2019)', 'Validacion (Ene 2020 - Actualidad)'])\n",
    "plt.show()"
   ]
  },
  {
   "cell_type": "code",
   "execution_count": 6,
   "metadata": {
    "colab": {
     "base_uri": "https://localhost:8080/"
    },
    "id": "yZfQMFJvBgHG",
    "outputId": "62d42de7-5a1d-4aca-bed2-5e18fe5148b1"
   },
   "outputs": [
    {
     "name": "stdout",
     "output_type": "stream",
     "text": [
      "MinMaxScaler()\n",
      "                 Close\n",
      "Date                  \n",
      "2010-10-01  108.300003\n",
      "2010-11-01  108.180000\n",
      "2010-12-01  115.139999\n",
      "2011-01-01  117.699997\n",
      "2011-02-01  121.779999\n",
      "...                ...\n",
      "2019-08-01  268.600006\n",
      "2019-09-01  272.600006\n",
      "2019-10-01  278.549988\n",
      "2019-11-01  288.649994\n",
      "2019-12-01  295.799988\n",
      "\n",
      "[111 rows x 1 columns]\n"
     ]
    }
   ],
   "source": [
    "# Normalización del set de entrenamiento\n",
    "sc = MinMaxScaler(feature_range=(0,1))\n",
    "print(sc)\n",
    "print(set_entrenamiento)\n",
    "set_entrenamiento_escalado = sc.fit_transform(set_entrenamiento)"
   ]
  },
  {
   "cell_type": "markdown",
   "metadata": {
    "id": "7mLXvcbvBgHL"
   },
   "source": [
    "## La red LSTM tendrá como entrada \"time_step\" datos consecutivos, y como salida 1 dato (la predicción a\n",
    "# partir de esos \"time_step\" datos). Se conformará de esta forma el set de entrenamiento\n",
    "time_step = 726\n",
    "X_train = []\n",
    "Y_train = []\n",
    "m = len(set_entrenamiento_escalado)"
   ]
  },
  {
   "cell_type": "code",
   "execution_count": 7,
   "metadata": {
    "id": "LPH7Qxe4KibN"
   },
   "outputs": [],
   "source": [
    "time_step = 3\n",
    "X_train = [] \n",
    "Y_train = [] \n",
    "m = len(set_entrenamiento_escalado)"
   ]
  },
  {
   "cell_type": "code",
   "execution_count": 8,
   "metadata": {
    "colab": {
     "base_uri": "https://localhost:8080/"
    },
    "id": "Qr0LzvuRBgHQ",
    "outputId": "dcf7a5b2-6f20-494d-d086-c5d5327be346"
   },
   "outputs": [
    {
     "data": {
      "text/plain": [
       "108"
      ]
     },
     "execution_count": 8,
     "metadata": {},
     "output_type": "execute_result"
    }
   ],
   "source": [
    "for i in range(time_step,m):\n",
    "    # X: bloques de \"time_step\" datos: 0-time_step, 1-time_step+1, 2-time_step+2, etc\n",
    "    X_train.append(set_entrenamiento_escalado[i-time_step:i,0])\n",
    "    # Y: el siguiente dato\n",
    "    Y_train.append(set_entrenamiento_escalado[i,0])\n",
    "X_train, Y_train = np.array(X_train), np.array(Y_train)\n",
    "X_train = np.reshape(X_train, (X_train.shape[0], X_train.shape[1], 1))\n",
    "len(X_train)"
   ]
  },
  {
   "cell_type": "code",
   "execution_count": 9,
   "metadata": {
    "colab": {
     "base_uri": "https://localhost:8080/"
    },
    "id": "okIZxUBSBgHg",
    "outputId": "82d6864b-23d9-4468-8270-911970e8aa73"
   },
   "outputs": [
    {
     "name": "stdout",
     "output_type": "stream",
     "text": [
      "(3, 1)\n",
      "Epoch 1/20\n",
      "9/9 [==============================] - 4s 4ms/step - loss: 0.1840\n",
      "Epoch 2/20\n",
      "9/9 [==============================] - 0s 4ms/step - loss: 0.0207\n",
      "Epoch 3/20\n",
      "9/9 [==============================] - 0s 5ms/step - loss: 0.0089\n",
      "Epoch 4/20\n",
      "9/9 [==============================] - 0s 5ms/step - loss: 0.0058\n",
      "Epoch 5/20\n",
      "9/9 [==============================] - 0s 5ms/step - loss: 0.0033\n",
      "Epoch 6/20\n",
      "9/9 [==============================] - 0s 5ms/step - loss: 0.0029\n",
      "Epoch 7/20\n",
      "9/9 [==============================] - 0s 5ms/step - loss: 0.0037\n",
      "Epoch 8/20\n",
      "9/9 [==============================] - 0s 5ms/step - loss: 0.0025\n",
      "Epoch 9/20\n",
      "9/9 [==============================] - 0s 4ms/step - loss: 0.0020\n",
      "Epoch 10/20\n",
      "9/9 [==============================] - 0s 5ms/step - loss: 0.0024\n",
      "Epoch 11/20\n",
      "9/9 [==============================] - 0s 5ms/step - loss: 0.0027\n",
      "Epoch 12/20\n",
      "9/9 [==============================] - 0s 5ms/step - loss: 0.0024\n",
      "Epoch 13/20\n",
      "9/9 [==============================] - 0s 5ms/step - loss: 0.0018\n",
      "Epoch 14/20\n",
      "9/9 [==============================] - 0s 5ms/step - loss: 0.0024\n",
      "Epoch 15/20\n",
      "9/9 [==============================] - 0s 4ms/step - loss: 0.0024\n",
      "Epoch 16/20\n",
      "9/9 [==============================] - 0s 4ms/step - loss: 0.0029\n",
      "Epoch 17/20\n",
      "9/9 [==============================] - 0s 5ms/step - loss: 0.0021\n",
      "Epoch 18/20\n",
      "9/9 [==============================] - 0s 5ms/step - loss: 0.0018\n",
      "Epoch 19/20\n",
      "9/9 [==============================] - 0s 4ms/step - loss: 0.0025\n",
      "Epoch 20/20\n",
      "9/9 [==============================] - ETA: 0s - loss: 0.002 - 0s 5ms/step - loss: 0.0024\n"
     ]
    },
    {
     "data": {
      "text/plain": [
       "<tensorflow.python.keras.callbacks.History at 0x5a10175550>"
      ]
     },
     "execution_count": 9,
     "metadata": {},
     "output_type": "execute_result"
    }
   ],
   "source": [
    "#\n",
    "# Red LSTM\n",
    "#\n",
    "dim_entrada = (X_train.shape[1],1)\n",
    "dim_salida = 1\n",
    "print(dim_entrada)\n",
    "na = 120\n",
    "\n",
    "modelo = Sequential()\n",
    "modelo.add(LSTM(units=na, input_shape=dim_entrada))\n",
    "modelo.add(Dense(units=dim_salida))\n",
    "modelo.compile(optimizer='rmsprop', loss='mse')\n",
    "modelo.fit(X_train,Y_train,epochs=20,batch_size=12)"
   ]
  },
  {
   "cell_type": "code",
   "execution_count": 10,
   "metadata": {
    "colab": {
     "base_uri": "https://localhost:8080/",
     "height": 785
    },
    "id": "C0X8ySdsBgHp",
    "outputId": "2aa6640c-3d2d-4bb5-8c4d-4d550d29c3bd"
   },
   "outputs": [
    {
     "name": "stdout",
     "output_type": "stream",
     "text": [
      "                 Close\n",
      "Date                  \n",
      "2020-01-01  295.690002\n",
      "2020-02-01  271.739990\n",
      "2020-03-01  236.820007\n",
      "2020-04-01  267.100006\n",
      "2020-05-01  279.750000\n",
      "2020-06-01  283.429993\n",
      "2020-07-01  300.100006\n",
      "2020-08-01  321.019989\n",
      "2020-09-01  307.649994\n",
      "2020-10-01  299.820007\n",
      "2020-11-01  332.640015\n",
      "2020-12-01  343.690002\n",
      "2021-01-01  351.899994\n",
      "2021-01-25  352.760010\n",
      "[[276.40735]\n",
      " [257.42517]\n",
      " [254.48822]\n",
      " [274.81314]\n",
      " [285.89874]\n",
      " [298.51727]\n",
      " [312.43182]\n",
      " [316.2229 ]\n",
      " [313.09283]\n",
      " [324.38586]\n",
      " [347.57797]]\n"
     ]
    },
    {
     "data": {
      "image/png": "[encoded data removed]",
      "text/plain": [
       "<Figure size 432x288 with 1 Axes>"
      ]
     },
     "metadata": {
      "needs_background": "light"
     },
     "output_type": "display_data"
    }
   ],
   "source": [
    "#\n",
    "# Validación (predicción del valor de las acciones)\n",
    "#\n",
    "\n",
    "x_test = set_validacion.values\n",
    "x_test = sc.transform(x_test)\n",
    "\n",
    "X_test = []\n",
    "\n",
    "m = len(x_test)\n",
    "for i in range(time_step,m):\n",
    "  X_test.append(x_test[i-time_step:i,0])\n",
    "X_test = np.array(X_test)\n",
    "X_test = np.reshape(X_test, (X_test.shape[0],X_test.shape[1],1))\n",
    "\n",
    "prediccion = modelo.predict(X_test)\n",
    "prediccion = sc.inverse_transform(prediccion)\n",
    "\n",
    "# Graficar resultados\n",
    "print(set_validacion)\n",
    "print(prediccion)\n",
    "graficar_predicciones(set_validacion.values,prediccion)"
   ]
  },
  {
   "cell_type": "code",
   "execution_count": null,
   "metadata": {},
   "outputs": [],
   "source": []
  }
 ],
 "metadata": {
  "colab": {
   "collapsed_sections": [],
   "name": "presentación.ipynb",
   "provenance": [],
   "toc_visible": true
  },
  "kernelspec": {
   "display_name": "Python 3",
   "language": "python",
   "name": "python3"
  },
  "language_info": {
   "codemirror_mode": {
    "name": "ipython",
    "version": 3
   },
   "file_extension": ".py",
   "mimetype": "text/x-python",
   "name": "python",
   "nbconvert_exporter": "python",
   "pygments_lexer": "ipython3",
   "version": "3.8.3"
  }
 },
 "nbformat": 4,
 "nbformat_minor": 4
}
